{
 "cells": [
  {
   "cell_type": "code",
   "execution_count": 1,
   "metadata": {},
   "outputs": [
    {
     "data": {
      "text/plain": [
       "2277"
      ]
     },
     "execution_count": 1,
     "metadata": {},
     "output_type": "execute_result"
    }
   ],
   "source": [
    "from datetime import datetime\n",
    "\n",
    "# 현재 날짜\n",
    "current_date = datetime(2024, 3, 27)\n",
    "\n",
    "# 시작 날짜\n",
    "start_date = datetime(2018, 1, 1)\n",
    "\n",
    "# 날짜 간의 차이 계산\n",
    "count = (current_date - start_date).days\n",
    "count"
   ]
  },
  {
   "cell_type": "code",
   "execution_count": 3,
   "metadata": {},
   "outputs": [],
   "source": [
    "import requests\n",
    "import pandas as pd\n",
    "from datetime import datetime, timedelta\n",
    "from bs4 import BeautifulSoup\n",
    "\n",
    "coin_list       = ['BTC', \n",
    "                   #'ETH', \n",
    "                   #'BSV', \n",
    "                   #'XRP', \n",
    "                   #'BCH', \n",
    "                   #'EOS',\n",
    "                   ] \n",
    "time_units      = ['days', \n",
    "                   #'weeks', \n",
    "                   ]\n",
    "minutes_units   = [#1, \n",
    "                   #3, \n",
    "                   #5, \n",
    "                   #15, \n",
    "                   #30, \n",
    "                   #60, \n",
    "                   #240, \n",
    "                   ] \n",
    "\n",
    "'''\n",
    "'Time'                 : 시간\n",
    "'OpeningPrice'         : 시가\n",
    "'HighPrice'            : 고가\n",
    "'LowPrice'             : 저가\n",
    "'TradePrice'           : 체결가\n",
    "'CandleAccTradeVolume' : 누적 거래량\n",
    "'CandleAccTradePrice'  : 누적 체결가\n",
    "'''\n",
    "\n",
    "start_date = datetime.now()\n",
    "end_date = datetime(2018, 1, 1)\n",
    "date_format = \"%Y-%m-%dT00:00:00\"\n",
    "\n",
    "for coin in coin_list:\n",
    "    \n",
    "    for time_unit in time_units:\n",
    "        \n",
    "        result = []\n",
    "        for day in range((start_date - end_date).days):\n",
    "            \n",
    "            date = start_date - timedelta(days=day)\n",
    "            dataformat = date.strftime(date_format)\n",
    "            req    = requests.get(f'https://crix-api-endpoint.upbit.com/v1/crix/candles/{time_unit}?code=CRIX.UPBIT.KRW-{coin}&count={1}&to={dataformat}')\n",
    "            data   = req.json()\n",
    "\n",
    "            for i, candle in enumerate(data):\n",
    "                \n",
    "                result.append({\n",
    "                    'Time'                 : data[i][\"candleDateTimeKst\"], \n",
    "                    'OpeningPrice'         : data[i][\"openingPrice\"],\n",
    "                    'HighPrice'            : data[i][\"highPrice\"],\n",
    "                    'LowPrice'             : data[i][\"lowPrice\"],\n",
    "                    'TradePrice'           : data[i][\"tradePrice\"],\n",
    "                    'CandleAccTradeVolume' : data[i][\"candleAccTradeVolume\"],\n",
    "                    \"candleAccTradePrice\"  : data[i][\"candleAccTradePrice\"]\n",
    "                })\n",
    "                \n",
    "        coin_data = pd.DataFrame(result)\n",
    "        coin_data.to_csv(f'coin_data/{coin}_KRW_{time_unit}min.csv')\n",
    "\n",
    "    for minutes_unit in minutes_units:\n",
    "\n",
    "        req    = requests.get(f'https://crix-api-endpoint.upbit.com/v1/crix/candles/minutes/{minutes_unit}?code=CRIX.UPBIT.KRW-{coin}&count={400}&')\n",
    "        data   = req.json()\n",
    "        result = []\n",
    "\n",
    "        for i, candle in enumerate(data):\n",
    "            \n",
    "            result.append({\n",
    "                'Time'                 : data[i][\"candleDateTimeKst\"], \n",
    "                'OpeningPrice'         : data[i][\"openingPrice\"],\n",
    "                'HighPrice'            : data[i][\"highPrice\"],\n",
    "                'LowPrice'             : data[i][\"lowPrice\"],\n",
    "                'TradePrice'           : data[i][\"tradePrice\"],\n",
    "                'CandleAccTradeVolume' : data[i][\"candleAccTradeVolume\"],\n",
    "                \"candleAccTradePrice\"  : data[i][\"candleAccTradePrice\"]\n",
    "            })\n",
    "            \n",
    "        coin_data = pd.DataFrame(result)\n",
    "        coin_data.to_csv(f'coin_data/{coin}_KRW_{minutes_unit}min.csv')"
   ]
  },
  {
   "cell_type": "code",
   "execution_count": null,
   "metadata": {},
   "outputs": [],
   "source": []
  }
 ],
 "metadata": {
  "kernelspec": {
   "display_name": "Python 3",
   "language": "python",
   "name": "python3"
  },
  "language_info": {
   "codemirror_mode": {
    "name": "ipython",
    "version": 3
   },
   "file_extension": ".py",
   "mimetype": "text/x-python",
   "name": "python",
   "nbconvert_exporter": "python",
   "pygments_lexer": "ipython3",
   "version": "3.11.5"
  }
 },
 "nbformat": 4,
 "nbformat_minor": 2
}
